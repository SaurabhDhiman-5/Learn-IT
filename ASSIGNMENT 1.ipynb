{
 "cells": [
  {
   "cell_type": "code",
   "execution_count": 1,
   "id": "4b254bca-ed68-47db-a090-99628048b3e6",
   "metadata": {},
   "outputs": [],
   "source": [
    "# Answer 1\n",
    "\n",
    "str = \"hello\"\n",
    "list = [12,43,54,66,56,54]\n",
    "float = 13.456\n",
    "tuple = (1,3,\"xyz\",4,8)"
   ]
  },
  {
   "cell_type": "code",
   "execution_count": 2,
   "id": "b188d932-f30f-46dc-99c2-f1b35a7e4877",
   "metadata": {},
   "outputs": [],
   "source": [
    "# Answer 2\n",
    "var1 = ' '\n",
    "var2 = '[DS,ML,Python]'\n",
    "var3 = ['DS','ML','Python']\n",
    "var4 =1"
   ]
  },
  {
   "cell_type": "code",
   "execution_count": 3,
   "id": "839b757f-4b78-4a02-87ef-5d4c334c48d4",
   "metadata": {},
   "outputs": [
    {
     "data": {
      "text/plain": [
       "str"
      ]
     },
     "execution_count": 3,
     "metadata": {},
     "output_type": "execute_result"
    }
   ],
   "source": [
    "type(var1)"
   ]
  },
  {
   "cell_type": "code",
   "execution_count": 4,
   "id": "563fd38e-3c58-449a-b3de-3edb36ef1390",
   "metadata": {},
   "outputs": [
    {
     "data": {
      "text/plain": [
       "str"
      ]
     },
     "execution_count": 4,
     "metadata": {},
     "output_type": "execute_result"
    }
   ],
   "source": [
    "type(var2)"
   ]
  },
  {
   "cell_type": "code",
   "execution_count": 5,
   "id": "61a01c61-133e-4e6a-ad34-ab16255a90f9",
   "metadata": {},
   "outputs": [
    {
     "data": {
      "text/plain": [
       "list"
      ]
     },
     "execution_count": 5,
     "metadata": {},
     "output_type": "execute_result"
    }
   ],
   "source": [
    "type(var3)"
   ]
  },
  {
   "cell_type": "code",
   "execution_count": 6,
   "id": "e3a9195e-8877-40b5-b088-4d33f7be4974",
   "metadata": {},
   "outputs": [
    {
     "data": {
      "text/plain": [
       "int"
      ]
     },
     "execution_count": 6,
     "metadata": {},
     "output_type": "execute_result"
    }
   ],
   "source": [
    "type(var4)"
   ]
  },
  {
   "cell_type": "code",
   "execution_count": 8,
   "id": "870a25ed-acfc-47aa-9463-3efe49bc6c1c",
   "metadata": {},
   "outputs": [],
   "source": [
    "# Answer 3\n",
    "# When\n",
    "a=4\n",
    "b=2"
   ]
  },
  {
   "cell_type": "code",
   "execution_count": 9,
   "id": "937c8d01-bf69-4be4-82b1-5df05b6d8570",
   "metadata": {},
   "outputs": [
    {
     "data": {
      "text/plain": [
       "2.0"
      ]
     },
     "execution_count": 9,
     "metadata": {},
     "output_type": "execute_result"
    }
   ],
   "source": [
    "a/b"
   ]
  },
  {
   "cell_type": "code",
   "execution_count": 11,
   "id": "07e2ea4c-5142-4721-9dfc-9a03f2657087",
   "metadata": {},
   "outputs": [
    {
     "data": {
      "text/plain": [
       "0"
      ]
     },
     "execution_count": 11,
     "metadata": {},
     "output_type": "execute_result"
    }
   ],
   "source": [
    "a%b"
   ]
  },
  {
   "cell_type": "code",
   "execution_count": 12,
   "id": "da571abb-69e2-4cb2-a97d-fc9ad6e5c57a",
   "metadata": {},
   "outputs": [
    {
     "data": {
      "text/plain": [
       "2"
      ]
     },
     "execution_count": 12,
     "metadata": {},
     "output_type": "execute_result"
    }
   ],
   "source": [
    "a//b"
   ]
  },
  {
   "cell_type": "code",
   "execution_count": 13,
   "id": "acafb801-098e-41d3-9783-feb71fb48e3a",
   "metadata": {},
   "outputs": [
    {
     "data": {
      "text/plain": [
       "16"
      ]
     },
     "execution_count": 13,
     "metadata": {},
     "output_type": "execute_result"
    }
   ],
   "source": [
    "a**b"
   ]
  },
  {
   "cell_type": "code",
   "execution_count": 15,
   "id": "36e4b443-88ad-4859-b3a5-150691db062d",
   "metadata": {},
   "outputs": [
    {
     "name": "stdout",
     "output_type": "stream",
     "text": [
      "45 <class 'int'>\n",
      "78.67 <class 'float'>\n",
      "34 <class 'int'>\n",
      "day <class 'str'>\n",
      "True <class 'bool'>\n",
      "0 <class 'int'>\n",
      "(54, 'viva', 'ROG', 12.3) <class 'tuple'>\n",
      "False <class 'bool'>\n",
      "None <class 'NoneType'>\n",
      "5100 <class 'int'>\n"
     ]
    }
   ],
   "source": [
    "# Answer 4\n",
    "\n",
    "L= [45,78.67,34,\"day\",True,0,(54,\"viva\",\"ROG\",12.3),False,None, 5100]\n",
    "for i in L:\n",
    "    print(i,type(i))\n"
   ]
  },
  {
   "cell_type": "code",
   "execution_count": 16,
   "id": "d016a558-d60d-426e-8db7-3d1825a2644c",
   "metadata": {},
   "outputs": [
    {
     "name": "stdin",
     "output_type": "stream",
     "text": [
      "Enter the value of A:  20\n",
      "Enter the value of B:  4\n"
     ]
    },
    {
     "name": "stdout",
     "output_type": "stream",
     "text": [
      "Number A is purely divisibile by B  1 times.\n"
     ]
    }
   ],
   "source": [
    "# Answer 5\n",
    "\n",
    "A=int(input(\"Enter the value of A: \"))\n",
    "B=int(input(\"Enter the value of B: \"))\n",
    "\n",
    "count = 0\n",
    "\n",
    "while A%B==0:\n",
    "    count+=1\n",
    "    A=A/B\n",
    "    if count>0:\n",
    "        print(\"Number A is purely divisibile by B \",count,\"times.\")\n",
    "    else:\n",
    "        print(\"Number A is not purely divisible by B.\")"
   ]
  },
  {
   "cell_type": "code",
   "execution_count": 17,
   "id": "b10274b6-018a-4237-b8d7-3546c45d488a",
   "metadata": {},
   "outputs": [
    {
     "name": "stdout",
     "output_type": "stream",
     "text": [
      "3\n",
      "45\n",
      "63\n",
      "12\n",
      "42\n",
      "87\n",
      "9\n",
      "6\n",
      "51\n",
      "87\n",
      "66\n",
      "48\n",
      "78\n",
      "60\n",
      "99\n"
     ]
    }
   ],
   "source": [
    "# Answer 6\n",
    "# let s be list of 25 integers\n",
    "s=[3,45,63,34,12,8,76,77,42,14,67,87,9,5,6,56,51,87,66,48,41,78,60,99]\n",
    "count = 0\n",
    "for i in s:\n",
    "    if i%3==0:\n",
    "        print(i)"
   ]
  },
  {
   "cell_type": "code",
   "execution_count": 20,
   "id": "10dc11a2-d37c-4c7e-8ba6-979a2e2863d6",
   "metadata": {},
   "outputs": [],
   "source": [
    "# Answer 7\n",
    "\n",
    "# Mutable data:- the type of data which allows you to change its value without changing its identity by the process of mutation.\n",
    "# Lists are example of mutable data\n",
    "L1=[1,2,3,4,5,6,7,8,9]"
   ]
  },
  {
   "cell_type": "code",
   "execution_count": 22,
   "id": "e1d7013e-4881-4391-b829-11751262c014",
   "metadata": {},
   "outputs": [
    {
     "data": {
      "text/plain": [
       "list"
      ]
     },
     "execution_count": 22,
     "metadata": {},
     "output_type": "execute_result"
    }
   ],
   "source": [
    "type(L1)"
   ]
  },
  {
   "cell_type": "code",
   "execution_count": 24,
   "id": "5ef4b139-d692-473c-85fe-5eee924e58f5",
   "metadata": {},
   "outputs": [],
   "source": [
    "L1[0] = 6"
   ]
  },
  {
   "cell_type": "code",
   "execution_count": 25,
   "id": "6dc1b5a4-dca0-4d5e-acf9-e519b1c11e3c",
   "metadata": {},
   "outputs": [
    {
     "data": {
      "text/plain": [
       "[6, 2, 3, 4, 5, 6, 7, 8, 9]"
      ]
     },
     "execution_count": 25,
     "metadata": {},
     "output_type": "execute_result"
    }
   ],
   "source": [
    "L1"
   ]
  },
  {
   "cell_type": "code",
   "execution_count": 26,
   "id": "6fe0531d-df94-4125-b4ab-af443202bb1a",
   "metadata": {},
   "outputs": [],
   "source": [
    "# as we can see after doing modification, the data of list L1 change."
   ]
  },
  {
   "cell_type": "code",
   "execution_count": 27,
   "id": "b4d3c787-ff8c-41a3-a922-a52b8e220318",
   "metadata": {},
   "outputs": [],
   "source": [
    "# Immutable Data:- this is the type of data which doesn't allow us to do an kind of modification or mutation in it.\n",
    "# Tuple is one kind of imutable data.\n",
    "T1= (1,2,3,4,5)"
   ]
  },
  {
   "cell_type": "code",
   "execution_count": 28,
   "id": "8be9d7bd-7f10-437b-8418-b88f65ea0b15",
   "metadata": {},
   "outputs": [
    {
     "data": {
      "text/plain": [
       "tuple"
      ]
     },
     "execution_count": 28,
     "metadata": {},
     "output_type": "execute_result"
    }
   ],
   "source": [
    "type(T1)"
   ]
  },
  {
   "cell_type": "code",
   "execution_count": 29,
   "id": "67d316c1-ce76-40ee-8a2f-fed4c009514b",
   "metadata": {},
   "outputs": [
    {
     "ename": "TypeError",
     "evalue": "'tuple' object does not support item assignment",
     "output_type": "error",
     "traceback": [
      "\u001b[0;31m---------------------------------------------------------------------------\u001b[0m",
      "\u001b[0;31mTypeError\u001b[0m                                 Traceback (most recent call last)",
      "Cell \u001b[0;32mIn[29], line 1\u001b[0m\n\u001b[0;32m----> 1\u001b[0m \u001b[43mT1\u001b[49m\u001b[43m[\u001b[49m\u001b[38;5;241;43m0\u001b[39;49m\u001b[43m]\u001b[49m \u001b[38;5;241m=\u001b[39m \u001b[38;5;241m4\u001b[39m\n",
      "\u001b[0;31mTypeError\u001b[0m: 'tuple' object does not support item assignment"
     ]
    }
   ],
   "source": [
    "T1[0] = 4"
   ]
  },
  {
   "cell_type": "code",
   "execution_count": null,
   "id": "e06ec1c8-dd5a-4507-a8a1-3ca8f95be77b",
   "metadata": {},
   "outputs": [],
   "source": [
    "# As wee can see when we try to modify data in Tupple it shows ERROR.\n",
    "                                            \n",
    "    \n",
    "                                                    # THANK YOU"
   ]
  }
 ],
 "metadata": {
  "kernelspec": {
   "display_name": "Python 3 (ipykernel)",
   "language": "python",
   "name": "python3"
  },
  "language_info": {
   "codemirror_mode": {
    "name": "ipython",
    "version": 3
   },
   "file_extension": ".py",
   "mimetype": "text/x-python",
   "name": "python",
   "nbconvert_exporter": "python",
   "pygments_lexer": "ipython3",
   "version": "3.10.8"
  }
 },
 "nbformat": 4,
 "nbformat_minor": 5
}
